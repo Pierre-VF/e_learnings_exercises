{
 "cells": [
  {
   "cell_type": "markdown",
   "metadata": {},
   "source": [
    "# Playing around with a basic blockchain"
   ]
  },
  {
   "cell_type": "code",
   "execution_count": null,
   "metadata": {},
   "outputs": [],
   "source": [
    "import hashlib\n",
    "import json\n",
    "\n",
    "class IntegrityError(RuntimeError):\n",
    "    pass\n",
    "\n",
    "\n",
    "class BaseBlockChain:\n",
    "    def __init__(self) -> None:\n",
    "        self.__initial_block = {\"hash\": \"initial\", \"block\": \"\"}\n",
    "        self.chain: list[dict[str, str]] = []\n",
    "\n",
    "    @property\n",
    "    def last_block(self):\n",
    "        if len(self.chain) < 1:\n",
    "            return self.__initial_block\n",
    "        else:\n",
    "            return self.chain[-1]\n",
    "\n",
    "    def __hash(self, previous_hash: str, block):\n",
    "        new_block = dict(block=block)\n",
    "        new_block[\"previous_hash\"] = previous_hash\n",
    "\n",
    "        new_block_string = json.dumps(new_block, sort_keys=True).encode()\n",
    "        new_hash = hashlib.sha256(new_block_string).hexdigest()\n",
    "        return new_hash\n",
    "    \n",
    "    def add_block(self, block: str):\n",
    "        previous_hash = self.last_block[\"hash\"]\n",
    "        new_block = {\"hash\": self.__hash(previous_hash, block), \"block\": block}\n",
    "        self.chain.append(new_block)\n",
    "\n",
    "    def check_integrity(self):\n",
    "        i = 0\n",
    "        previous_hash = self.__initial_block[\"hash\"]\n",
    "        for b in self.chain:\n",
    "            if b[\"hash\"] != self.__hash(previous_hash, b[\"block\"]):\n",
    "                raise IntegrityError(f\"Invalid block in chain at position {i}: {b}\")\n",
    "            previous_hash = b[\"hash\"]\n",
    "            i += 1\n",
    "       "
   ]
  },
  {
   "cell_type": "code",
   "execution_count": null,
   "metadata": {},
   "outputs": [],
   "source": [
    "c0 = BaseBlockChain()\n",
    "\n",
    "c0.add_block(\"Block 1\")\n",
    "c0.add_block(\"Block 2\")\n",
    "c0.add_block(\"Block 3\")\n",
    "c0.check_integrity()\n"
   ]
  },
  {
   "cell_type": "code",
   "execution_count": null,
   "metadata": {},
   "outputs": [],
   "source": [
    "c0.chain[1][\"block\"] = \"I tampered with you\"\n",
    "c0.check_integrity()"
   ]
  }
 ],
 "metadata": {
  "kernelspec": {
   "display_name": "venv",
   "language": "python",
   "name": "python3"
  },
  "language_info": {
   "codemirror_mode": {
    "name": "ipython",
    "version": 3
   },
   "file_extension": ".py",
   "mimetype": "text/x-python",
   "name": "python",
   "nbconvert_exporter": "python",
   "pygments_lexer": "ipython3",
   "version": "3.11.7"
  }
 },
 "nbformat": 4,
 "nbformat_minor": 2
}

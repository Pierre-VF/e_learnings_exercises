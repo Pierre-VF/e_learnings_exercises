{
 "cells": [
  {
   "cell_type": "markdown",
   "metadata": {},
   "source": [
    "# Playing around with a basic blockchain"
   ]
  },
  {
   "cell_type": "code",
   "execution_count": null,
   "metadata": {},
   "outputs": [],
   "source": [
    "import hashlib\n",
    "import json\n",
    "from typing import Any\n",
    "from copy import deepcopy\n",
    "\n",
    "\n",
    "class IntegrityError(RuntimeError):\n",
    "    pass\n",
    "       "
   ]
  },
  {
   "cell_type": "code",
   "execution_count": null,
   "metadata": {},
   "outputs": [],
   "source": [
    "class BaseBlockChain:\n",
    "    def __init__(self) -> None:\n",
    "        self.__initial_block = {\"hash\": \"initial\", \"block\": []}\n",
    "        self._chain: list[dict[str, Any]] = []\n",
    "\n",
    "    @property\n",
    "    def last_block(self) -> Any:\n",
    "        if len(self._chain) < 1:\n",
    "            return self.__initial_block\n",
    "        else:\n",
    "            return self._chain[-1]\n",
    "\n",
    "    def __hash(self, previous_hash: str, block) -> str:\n",
    "        new_block = dict(block=block)\n",
    "        new_block[\"previous_hash\"] = previous_hash\n",
    "\n",
    "        new_block_string = json.dumps(new_block, sort_keys=True).encode()\n",
    "        new_hash = hashlib.sha256(new_block_string).hexdigest()\n",
    "        return new_hash\n",
    "    \n",
    "    def add_block(self, block: Any) -> None:\n",
    "        previous_hash = self.last_block[\"hash\"]\n",
    "        new_block = {\"hash\": self.__hash(previous_hash, block), \"block\": block}\n",
    "        self._chain.append(new_block)\n",
    "\n",
    "    def check_integrity(self) -> None:\n",
    "        i = 0\n",
    "        previous_hash = self.__initial_block[\"hash\"]\n",
    "        for b in self._chain:\n",
    "            if b[\"hash\"] != self.__hash(previous_hash, b[\"block\"]):\n",
    "                raise IntegrityError(f\"Invalid block in chain at position {i}: {b}\")\n",
    "            previous_hash = b[\"hash\"]\n",
    "            i += 1\n",
    "\n",
    "    def print(self) -> None:\n",
    "        i = 0\n",
    "        for b in self._chain:\n",
    "            print(f\"{i}: {b}\")\n",
    "            i += 1\n"
   ]
  },
  {
   "cell_type": "code",
   "execution_count": null,
   "metadata": {},
   "outputs": [],
   "source": [
    "c0 = BaseBlockChain()\n",
    "\n",
    "c0.add_block(\"Block 1\")\n",
    "c0.add_block(\"Block 2\")\n",
    "c0.add_block(\"Block 3\")\n",
    "c0.check_integrity()"
   ]
  },
  {
   "cell_type": "code",
   "execution_count": null,
   "metadata": {},
   "outputs": [],
   "source": [
    "c0.print()"
   ]
  },
  {
   "cell_type": "code",
   "execution_count": null,
   "metadata": {},
   "outputs": [],
   "source": [
    "c1 = deepcopy(c0)\n",
    "c1._chain[1][\"block\"] = \"I tampered with you\"\n",
    "print(\"Print tampered version:\")\n",
    "c1.print()\n",
    "\n",
    "print(\" \")\n",
    "print(\"Checking integrity:\")\n",
    "c1.check_integrity()"
   ]
  },
  {
   "cell_type": "markdown",
   "metadata": {},
   "source": [
    "## A blockchain with transactions in bulk"
   ]
  },
  {
   "cell_type": "code",
   "execution_count": null,
   "metadata": {},
   "outputs": [],
   "source": [
    "class BlockChainWithBulkTransactions(BaseBlockChain):\n",
    "    def __init__(self) -> None:\n",
    "        super().__init__()\n",
    "        self._pending_transactions = []\n",
    "\n",
    "    def add_transaction(self, transaction: Any) -> None:\n",
    "        self._pending_transactions.append(transaction)    \n",
    "    \n",
    "    def commit(self) -> None:\n",
    "        block = deepcopy(self._pending_transactions)\n",
    "        self.add_block(block)\n",
    "        self._pending_transactions = []"
   ]
  },
  {
   "cell_type": "code",
   "execution_count": null,
   "metadata": {},
   "outputs": [],
   "source": [
    "ct0 = BlockChainWithBulkTransactions()\n",
    "\n",
    "ct0.add_transaction(\"Block 1\")\n",
    "ct0.add_transaction(\"Block 2\")\n",
    "ct0.add_transaction(\"Block 3\")\n",
    "ct0.commit()\n",
    "ct0.add_transaction(\"Block 4\")\n",
    "ct0.commit()\n",
    "ct0.add_transaction(\"Block 5\")\n",
    "ct0.add_transaction(\"Block 6\")\n",
    "ct0.commit()\n",
    "ct0.check_integrity()\n",
    "\n",
    "ct0.print()"
   ]
  },
  {
   "cell_type": "code",
   "execution_count": null,
   "metadata": {},
   "outputs": [],
   "source": [
    "ct1 = deepcopy(ct0)\n",
    "ct1._chain[1][\"block\"] = \"I tampered with you\"\n",
    "print(\"Print tampered version:\")\n",
    "ct1.print()\n",
    "\n",
    "print(\" \")\n",
    "print(\"Checking integrity:\")\n",
    "ct1.check_integrity()"
   ]
  }
 ],
 "metadata": {
  "kernelspec": {
   "display_name": "venv",
   "language": "python",
   "name": "python3"
  },
  "language_info": {
   "codemirror_mode": {
    "name": "ipython",
    "version": 3
   },
   "file_extension": ".py",
   "mimetype": "text/x-python",
   "name": "python",
   "nbconvert_exporter": "python",
   "pygments_lexer": "ipython3",
   "version": "3.11.7"
  }
 },
 "nbformat": 4,
 "nbformat_minor": 2
}

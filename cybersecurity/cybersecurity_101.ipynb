{
 "cells": [
  {
   "cell_type": "markdown",
   "metadata": {},
   "source": [
    "# Cybersecurity 101"
   ]
  },
  {
   "cell_type": "markdown",
   "metadata": {},
   "source": [
    "## From Cybersecurity Basics on edX\n",
    "\n",
    "Link: https://learning.edx.org/course/course-v1:edX+BCT-cyber-basics+1T2023/home"
   ]
  },
  {
   "cell_type": "code",
   "execution_count": 1,
   "metadata": {},
   "outputs": [],
   "source": [
    "# Basic cesar cypher\n",
    "\n",
    "alphabet = \"a b c d e f g h i j k l m n o p q r s t u v w x y z\".split(\" \")\n",
    "\n",
    "# Consistency check\n",
    "assert len(alphabet) == 26\n",
    "\n",
    "\n",
    "def cesar_cypher_decode(plaintext: str, cypher: int) -> str:\n",
    "    i_capital = []\n",
    "    i = 0\n",
    "    for x in plaintext:\n",
    "        if x.upper() == x:\n",
    "            i_capital.append(i)\n",
    "        i += 1\n",
    "\n",
    "    def _n_th(x: str) -> int | None:\n",
    "        if x == \" \":\n",
    "            return None\n",
    "        else:\n",
    "            return alphabet.index(x)\n",
    "\n",
    "    def _cypher(x: int) -> int:\n",
    "        if x is None:\n",
    "            return None\n",
    "        else:\n",
    "            return (x - cypher) % 26\n",
    "\n",
    "    def _to_char(x: int | None) -> str:\n",
    "        if x is None:\n",
    "            return \" \"\n",
    "        else:\n",
    "            return alphabet[x]\n",
    "\n",
    "    encoded_to_ints = [_n_th(i) for i in plaintext.lower()]\n",
    "    cyphered_ints = [_cypher(i) for i in encoded_to_ints]\n",
    "    res = [_to_char(i) for i in cyphered_ints]\n",
    "    for i in i_capital:\n",
    "        res[i] = res[i].upper()\n",
    "    return \"\".join(res)\n",
    "\n",
    "\n",
    "def cesar_cypher_encode(text: str, cypher: int) -> str:\n",
    "    return cesar_cypher_decode(text, -cypher)"
   ]
  },
  {
   "cell_type": "code",
   "execution_count": 2,
   "metadata": {},
   "outputs": [
    {
     "name": "stdout",
     "output_type": "stream",
     "text": [
      "Launch an attack at sunrise\n"
     ]
    }
   ],
   "source": [
    "# Sanity checking results\n",
    "print(cesar_cypher_decode(\"Odxqfk dq dwwdfn dw vxqulvh\", 3))\n",
    "\n",
    "assert cesar_cypher_decode(\"Eoxh Ira\", 3) == \"Blue Fox\"\n",
    "assert cesar_cypher_encode(\"Blue Fox\", 3) == \"Eoxh Ira\""
   ]
  },
  {
   "cell_type": "code",
   "execution_count": 3,
   "metadata": {},
   "outputs": [
    {
     "name": "stdout",
     "output_type": "stream",
     "text": [
      "M orsa xli mhirxmxc sj xli Eptlefix Ferhmx\n"
     ]
    }
   ],
   "source": [
    "print(cesar_cypher_encode(\"I know the identity of the Alphabet Bandit\", 4))"
   ]
  }
 ],
 "metadata": {
  "kernelspec": {
   "display_name": "venv",
   "language": "python",
   "name": "python3"
  },
  "language_info": {
   "codemirror_mode": {
    "name": "ipython",
    "version": 3
   },
   "file_extension": ".py",
   "mimetype": "text/x-python",
   "name": "python",
   "nbconvert_exporter": "python",
   "pygments_lexer": "ipython3",
   "version": "3.11.6"
  }
 },
 "nbformat": 4,
 "nbformat_minor": 2
}
